{
  "cells": [
    {
      "cell_type": "markdown",
      "metadata": {
        "id": "view-in-github",
        "colab_type": "text"
      },
      "source": [
        "<a href=\"https://colab.research.google.com/github/Raghvendra9936/Hand-Written-digit-Recognization/blob/main/Hand_Written_Digit_Recognition.ipynb\" target=\"_parent\"><img src=\"https://colab.research.google.com/assets/colab-badge.svg\" alt=\"Open In Colab\"/></a>"
      ]
    },
    {
      "cell_type": "markdown",
      "id": "1b9b5eea-79e8-4386-9495-fde8c0bdd36a",
      "metadata": {
        "id": "1b9b5eea-79e8-4386-9495-fde8c0bdd36a"
      },
      "source": [
        "## Hand Written digit Recognization System"
      ]
    },
    {
      "cell_type": "markdown",
      "id": "a7ad2f84-70f0-4954-8420-02823476e1aa",
      "metadata": {
        "id": "a7ad2f84-70f0-4954-8420-02823476e1aa"
      },
      "source": [
        "## Fetching DataSet"
      ]
    },
    {
      "cell_type": "code",
      "execution_count": null,
      "id": "19028e92-0c84-40fc-a7b9-b72d9b9cd156",
      "metadata": {
        "id": "19028e92-0c84-40fc-a7b9-b72d9b9cd156"
      },
      "outputs": [],
      "source": [
        "import matplotlib\n",
        "import matplotlib.pyplot as plt\n",
        "import numpy as np\n",
        "from sklearn.linear_model import LogisticRegression\n",
        "from sklearn.linear_model import SGDClassifier\n",
        "from sklearn.model_selection import cross_val_score\n",
        "from sklearn.model_selection import cross_val_predict\n",
        "from sklearn.datasets import fetch_openml\n",
        "\n",
        "from sklearn.metrics import precision_score, recall_score, f1_score\n"
      ]
    },
    {
      "cell_type": "code",
      "execution_count": null,
      "id": "1843a2d1-6569-47ee-92ed-7955854f56f1",
      "metadata": {
        "id": "1843a2d1-6569-47ee-92ed-7955854f56f1"
      },
      "outputs": [],
      "source": [
        "from sklearn.datasets import fetch_openml"
      ]
    },
    {
      "cell_type": "code",
      "execution_count": null,
      "id": "3a0f7fb9-84b9-4bac-b52c-dbf0215ce920",
      "metadata": {
        "id": "3a0f7fb9-84b9-4bac-b52c-dbf0215ce920"
      },
      "outputs": [],
      "source": [
        "mist = fetch_openml(name='mnist_784', version=1, parser=\"auto\")"
      ]
    },
    {
      "cell_type": "code",
      "execution_count": null,
      "id": "0916ae8e-6daa-4810-81c4-aa918568f5fa",
      "metadata": {
        "id": "0916ae8e-6daa-4810-81c4-aa918568f5fa"
      },
      "outputs": [],
      "source": [
        "x, y = mist['data'], mist['target']"
      ]
    },
    {
      "cell_type": "code",
      "execution_count": null,
      "id": "91436525-2ffd-4f30-a544-1e520cba7c32",
      "metadata": {
        "id": "91436525-2ffd-4f30-a544-1e520cba7c32",
        "outputId": "63c99f59-9ab2-4218-cf72-bff688736cf5"
      },
      "outputs": [
        {
          "data": {
            "text/plain": [
              "(70000, 784)"
            ]
          },
          "execution_count": 5,
          "metadata": {},
          "output_type": "execute_result"
        }
      ],
      "source": [
        "x.shape"
      ]
    },
    {
      "cell_type": "code",
      "execution_count": null,
      "id": "40a779ea-5c6e-4e60-b75c-1ea67016a300",
      "metadata": {
        "id": "40a779ea-5c6e-4e60-b75c-1ea67016a300",
        "outputId": "d837caf8-37f2-4e22-bace-91149078b0a9"
      },
      "outputs": [
        {
          "data": {
            "text/plain": [
              "(70000,)"
            ]
          },
          "execution_count": 6,
          "metadata": {},
          "output_type": "execute_result"
        }
      ],
      "source": [
        "y.shape"
      ]
    },
    {
      "cell_type": "code",
      "execution_count": null,
      "id": "6bf75982-0d11-4d22-84a9-7798e272233c",
      "metadata": {
        "id": "6bf75982-0d11-4d22-84a9-7798e272233c"
      },
      "outputs": [],
      "source": [
        "%matplotlib inline"
      ]
    },
    {
      "cell_type": "code",
      "execution_count": null,
      "id": "4fb8bbbe-0f82-4649-bb18-5e9f2b371e69",
      "metadata": {
        "id": "4fb8bbbe-0f82-4649-bb18-5e9f2b371e69"
      },
      "outputs": [],
      "source": [
        "import matplotlib\n",
        "import matplotlib.pyplot as plt"
      ]
    },
    {
      "cell_type": "code",
      "execution_count": null,
      "id": "3783ace7-fabe-4bdc-b403-118eb94b7d5f",
      "metadata": {
        "id": "3783ace7-fabe-4bdc-b403-118eb94b7d5f"
      },
      "outputs": [],
      "source": [
        "some_digit = x.to_numpy()[36001]\n",
        "some_digit_image = some_digit.reshape(28, 28)"
      ]
    },
    {
      "cell_type": "code",
      "execution_count": null,
      "id": "474fa996-55c3-4cb2-b567-d7125ac7687f",
      "metadata": {
        "id": "474fa996-55c3-4cb2-b567-d7125ac7687f",
        "outputId": "b90ffdee-8303-4cf3-91d9-8a306dac65da"
      },
      "outputs": [
        {
          "data": {
            "text/plain": [
              "(-0.5, 27.5, 27.5, -0.5)"
            ]
          },
          "execution_count": 10,
          "metadata": {},
          "output_type": "execute_result"
        },
        {
          "data": {
            "image/png": "[encoded data removed]",
            "text/plain": [
              "<Figure size 640x480 with 1 Axes>"
            ]
          },
          "metadata": {},
          "output_type": "display_data"
        }
      ],
      "source": [
        "plt.imshow(some_digit_image, cmap=matplotlib.cm.binary, interpolation=\"nearest\")\n",
        "plt.axis(\"off\")"
      ]
    },
    {
      "cell_type": "code",
      "execution_count": null,
      "id": "b70fd190-2aa2-460a-adad-7665909c83ea",
      "metadata": {
        "id": "b70fd190-2aa2-460a-adad-7665909c83ea",
        "outputId": "67a73bd3-f03e-4b17-f13b-7a2526a85cf8"
      },
      "outputs": [
        {
          "data": {
            "text/plain": [
              "36001    2\n",
              "Name: class, dtype: category\n",
              "Categories (10, object): ['0', '1', '2', '3', ..., '6', '7', '8', '9']"
            ]
          },
          "execution_count": 11,
          "metadata": {},
          "output_type": "execute_result"
        }
      ],
      "source": [
        "y.loc[[36001]]"
      ]
    },
    {
      "cell_type": "code",
      "execution_count": null,
      "id": "b1c76885-3ba2-49c3-af7e-e3c6f901a044",
      "metadata": {
        "id": "b1c76885-3ba2-49c3-af7e-e3c6f901a044"
      },
      "outputs": [],
      "source": [
        "x_train, x_test = x[:60000], x[60000:]"
      ]
    },
    {
      "cell_type": "code",
      "execution_count": null,
      "id": "0df6bf09-a3c1-4866-82f9-6b5699de7bc1",
      "metadata": {
        "id": "0df6bf09-a3c1-4866-82f9-6b5699de7bc1"
      },
      "outputs": [],
      "source": [
        "y_train, y_test = y[:60000], y[60000:]"
      ]
    },
    {
      "cell_type": "code",
      "execution_count": null,
      "id": "19ccda1c-3672-4178-9b10-0714414adba1",
      "metadata": {
        "id": "19ccda1c-3672-4178-9b10-0714414adba1"
      },
      "outputs": [],
      "source": [
        "import numpy as np\n",
        "\n",
        "shuffle_index = np.random.permutation(60000)\n",
        "x_train = x_train.iloc[shuffle_index]\n",
        "y_train = y_train.iloc[shuffle_index]"
      ]
    },
    {
      "cell_type": "markdown",
      "id": "ba749f28-cc02-421b-a1af-c510a3444806",
      "metadata": {
        "id": "ba749f28-cc02-421b-a1af-c510a3444806"
      },
      "source": [
        "## Creating a 2"
      ]
    },
    {
      "cell_type": "code",
      "execution_count": null,
      "id": "82b23249-de43-42e4-a9e7-49e6ed45eef3",
      "metadata": {
        "id": "82b23249-de43-42e4-a9e7-49e6ed45eef3"
      },
      "outputs": [],
      "source": [
        "y_train = y_train.astype(np.int8)\n",
        "y_test = y_test.astype(np.int8)\n",
        "y_train_2 = (y_train== 2)\n",
        "y_test_2 = (y_test== 2)"
      ]
    },
    {
      "cell_type": "code",
      "execution_count": null,
      "id": "0c33a91b-88b6-45a3-a34f-ffedb7e61d05",
      "metadata": {
        "id": "0c33a91b-88b6-45a3-a34f-ffedb7e61d05",
        "outputId": "a765120b-0127-43e0-8ad9-988ff83e1469"
      },
      "outputs": [
        {
          "data": {
            "text/plain": [
              "6255     5\n",
              "32915    5\n",
              "31674    7\n",
              "30087    0\n",
              "58029    7\n",
              "        ..\n",
              "42617    8\n",
              "39722    5\n",
              "12819    7\n",
              "8472     0\n",
              "18285    3\n",
              "Name: class, Length: 60000, dtype: int8"
            ]
          },
          "execution_count": 16,
          "metadata": {},
          "output_type": "execute_result"
        }
      ],
      "source": [
        "y_train"
      ]
    },
    {
      "cell_type": "code",
      "execution_count": null,
      "id": "090ef706-c7cb-4e4c-a603-beb7a6dbd124",
      "metadata": {
        "id": "090ef706-c7cb-4e4c-a603-beb7a6dbd124"
      },
      "outputs": [],
      "source": [
        "from sklearn.linear_model import LogisticRegression"
      ]
    },
    {
      "cell_type": "code",
      "execution_count": null,
      "id": "1d1ed7ad-b73c-42cb-b921-6f94a78abdc9",
      "metadata": {
        "id": "1d1ed7ad-b73c-42cb-b921-6f94a78abdc9"
      },
      "outputs": [],
      "source": [
        "clf = LogisticRegression(tol=0.1, solver='lbfgs')"
      ]
    },
    {
      "cell_type": "code",
      "execution_count": null,
      "id": "996375d5-5fc5-4f58-8bb7-95b133dea20b",
      "metadata": {
        "id": "996375d5-5fc5-4f58-8bb7-95b133dea20b",
        "outputId": "255ed1f7-a436-4d8c-e3a2-c8f6ebd1bff1"
      },
      "outputs": [
        {
          "name": "stderr",
          "output_type": "stream",
          "text": [
            "C:\\Users\\Kalpana Singh\\AppData\\Local\\Programs\\Python\\Python311\\Lib\\site-packages\\sklearn\\linear_model\\_logistic.py:458: ConvergenceWarning: lbfgs failed to converge (status=1):\n",
            "STOP: TOTAL NO. of ITERATIONS REACHED LIMIT.\n",
            "\n",
            "Increase the number of iterations (max_iter) or scale the data as shown in:\n",
            "    https://scikit-learn.org/stable/modules/preprocessing.html\n",
            "Please also refer to the documentation for alternative solver options:\n",
            "    https://scikit-learn.org/stable/modules/linear_model.html#logistic-regression\n",
            "  n_iter_i = _check_optimize_result(\n"
          ]
        },
        {
          "data": {
            "text/html": [
              "<style>#sk-container-id-1 {color: black;background-color: white;}#sk-container-id-1 pre{padding: 0;}#sk-container-id-1 div.sk-toggleable {background-color: white;}#sk-container-id-1 label.sk-toggleable__label {cursor: pointer;display: block;width: 100%;margin-bottom: 0;padding: 0.3em;box-sizing: border-box;text-align: center;}#sk-container-id-1 label.sk-toggleable__label-arrow:before {content: \"▸\";float: left;margin-right: 0.25em;color: #696969;}#sk-container-id-1 label.sk-toggleable__label-arrow:hover:before {color: black;}#sk-container-id-1 div.sk-estimator:hover label.sk-toggleable__label-arrow:before {color: black;}#sk-container-id-1 div.sk-toggleable__content {max-height: 0;max-width: 0;overflow: hidden;text-align: left;background-color: #f0f8ff;}#sk-container-id-1 div.sk-toggleable__content pre {margin: 0.2em;color: black;border-radius: 0.25em;background-color: #f0f8ff;}#sk-container-id-1 input.sk-toggleable__control:checked~div.sk-toggleable__content {max-height: 200px;max-width: 100%;overflow: auto;}#sk-container-id-1 input.sk-toggleable__control:checked~label.sk-toggleable__label-arrow:before {content: \"▾\";}#sk-container-id-1 div.sk-estimator input.sk-toggleable__control:checked~label.sk-toggleable__label {background-color: #d4ebff;}#sk-container-id-1 div.sk-label input.sk-toggleable__control:checked~label.sk-toggleable__label {background-color: #d4ebff;}#sk-container-id-1 input.sk-hidden--visually {border: 0;clip: rect(1px 1px 1px 1px);clip: rect(1px, 1px, 1px, 1px);height: 1px;margin: -1px;overflow: hidden;padding: 0;position: absolute;width: 1px;}#sk-container-id-1 div.sk-estimator {font-family: monospace;background-color: #f0f8ff;border: 1px dotted black;border-radius: 0.25em;box-sizing: border-box;margin-bottom: 0.5em;}#sk-container-id-1 div.sk-estimator:hover {background-color: #d4ebff;}#sk-container-id-1 div.sk-parallel-item::after {content: \"\";width: 100%;border-bottom: 1px solid gray;flex-grow: 1;}#sk-container-id-1 div.sk-label:hover label.sk-toggleable__label {background-color: #d4ebff;}#sk-container-id-1 div.sk-serial::before {content: \"\";position: absolute;border-left: 1px solid gray;box-sizing: border-box;top: 0;bottom: 0;left: 50%;z-index: 0;}#sk-container-id-1 div.sk-serial {display: flex;flex-direction: column;align-items: center;background-color: white;padding-right: 0.2em;padding-left: 0.2em;position: relative;}#sk-container-id-1 div.sk-item {position: relative;z-index: 1;}#sk-container-id-1 div.sk-parallel {display: flex;align-items: stretch;justify-content: center;background-color: white;position: relative;}#sk-container-id-1 div.sk-item::before, #sk-container-id-1 div.sk-parallel-item::before {content: \"\";position: absolute;border-left: 1px solid gray;box-sizing: border-box;top: 0;bottom: 0;left: 50%;z-index: -1;}#sk-container-id-1 div.sk-parallel-item {display: flex;flex-direction: column;z-index: 1;position: relative;background-color: white;}#sk-container-id-1 div.sk-parallel-item:first-child::after {align-self: flex-end;width: 50%;}#sk-container-id-1 div.sk-parallel-item:last-child::after {align-self: flex-start;width: 50%;}#sk-container-id-1 div.sk-parallel-item:only-child::after {width: 0;}#sk-container-id-1 div.sk-dashed-wrapped {border: 1px dashed gray;margin: 0 0.4em 0.5em 0.4em;box-sizing: border-box;padding-bottom: 0.4em;background-color: white;}#sk-container-id-1 div.sk-label label {font-family: monospace;font-weight: bold;display: inline-block;line-height: 1.2em;}#sk-container-id-1 div.sk-label-container {text-align: center;}#sk-container-id-1 div.sk-container {/* jupyter's `normalize.less` sets `[hidden] { display: none; }` but bootstrap.min.css set `[hidden] { display: none !important; }` so we also need the `!important` here to be able to override the default hidden behavior on the sphinx rendered scikit-learn.org. See: https://github.com/scikit-learn/scikit-learn/issues/21755 */display: inline-block !important;position: relative;}#sk-container-id-1 div.sk-text-repr-fallback {display: none;}</style><div id=\"sk-container-id-1\" class=\"sk-top-container\"><div class=\"sk-text-repr-fallback\"><pre>LogisticRegression(tol=0.1)</pre><b>In a Jupyter environment, please rerun this cell to show the HTML representation or trust the notebook. <br />On GitHub, the HTML representation is unable to render, please try loading this page with nbviewer.org.</b></div><div class=\"sk-container\" hidden><div class=\"sk-item\"><div class=\"sk-estimator sk-toggleable\"><input class=\"sk-toggleable__control sk-hidden--visually\" id=\"sk-estimator-id-1\" type=\"checkbox\" checked><label for=\"sk-estimator-id-1\" class=\"sk-toggleable__label sk-toggleable__label-arrow\">LogisticRegression</label><div class=\"sk-toggleable__content\"><pre>LogisticRegression(tol=0.1)</pre></div></div></div></div></div>"
            ],
            "text/plain": [
              "LogisticRegression(tol=0.1)"
            ]
          },
          "execution_count": 19,
          "metadata": {},
          "output_type": "execute_result"
        }
      ],
      "source": [
        "\n",
        "clf.fit(x_train, y_train_2)"
      ]
    },
    {
      "cell_type": "code",
      "execution_count": null,
      "id": "a58e9687-f38c-43bc-9644-715c9eed7421",
      "metadata": {
        "id": "a58e9687-f38c-43bc-9644-715c9eed7421",
        "outputId": "fb133a22-8ebf-4e43-e918-528198bd9c70"
      },
      "outputs": [
        {
          "name": "stderr",
          "output_type": "stream",
          "text": [
            "C:\\Users\\Kalpana Singh\\AppData\\Local\\Programs\\Python\\Python311\\Lib\\site-packages\\sklearn\\base.py:439: UserWarning: X does not have valid feature names, but LogisticRegression was fitted with feature names\n",
            "  warnings.warn(\n"
          ]
        },
        {
          "data": {
            "text/plain": [
              "array([ True])"
            ]
          },
          "execution_count": 20,
          "metadata": {},
          "output_type": "execute_result"
        }
      ],
      "source": [
        "clf.predict([some_digit])"
      ]
    },
    {
      "cell_type": "code",
      "execution_count": null,
      "id": "f157f4df-4871-4257-86aa-c0115753bac5",
      "metadata": {
        "id": "f157f4df-4871-4257-86aa-c0115753bac5",
        "outputId": "dbcc20ec-7817-4f27-c60c-f8fc5c857292"
      },
      "outputs": [
        {
          "name": "stderr",
          "output_type": "stream",
          "text": [
            "C:\\Users\\Kalpana Singh\\AppData\\Local\\Programs\\Python\\Python311\\Lib\\site-packages\\sklearn\\linear_model\\_logistic.py:458: ConvergenceWarning: lbfgs failed to converge (status=1):\n",
            "STOP: TOTAL NO. of ITERATIONS REACHED LIMIT.\n",
            "\n",
            "Increase the number of iterations (max_iter) or scale the data as shown in:\n",
            "    https://scikit-learn.org/stable/modules/preprocessing.html\n",
            "Please also refer to the documentation for alternative solver options:\n",
            "    https://scikit-learn.org/stable/modules/linear_model.html#logistic-regression\n",
            "  n_iter_i = _check_optimize_result(\n",
            "C:\\Users\\Kalpana Singh\\AppData\\Local\\Programs\\Python\\Python311\\Lib\\site-packages\\sklearn\\linear_model\\_logistic.py:458: ConvergenceWarning: lbfgs failed to converge (status=1):\n",
            "STOP: TOTAL NO. of ITERATIONS REACHED LIMIT.\n",
            "\n",
            "Increase the number of iterations (max_iter) or scale the data as shown in:\n",
            "    https://scikit-learn.org/stable/modules/preprocessing.html\n",
            "Please also refer to the documentation for alternative solver options:\n",
            "    https://scikit-learn.org/stable/modules/linear_model.html#logistic-regression\n",
            "  n_iter_i = _check_optimize_result(\n",
            "C:\\Users\\Kalpana Singh\\AppData\\Local\\Programs\\Python\\Python311\\Lib\\site-packages\\sklearn\\linear_model\\_logistic.py:458: ConvergenceWarning: lbfgs failed to converge (status=1):\n",
            "STOP: TOTAL NO. of ITERATIONS REACHED LIMIT.\n",
            "\n",
            "Increase the number of iterations (max_iter) or scale the data as shown in:\n",
            "    https://scikit-learn.org/stable/modules/preprocessing.html\n",
            "Please also refer to the documentation for alternative solver options:\n",
            "    https://scikit-learn.org/stable/modules/linear_model.html#logistic-regression\n",
            "  n_iter_i = _check_optimize_result(\n"
          ]
        }
      ],
      "source": [
        "from sklearn.model_selection import cross_val_score\n",
        "a = cross_val_score(clf, x_train, y_train_2, cv=3, scoring=\"accuracy\")"
      ]
    },
    {
      "cell_type": "code",
      "execution_count": null,
      "id": "e9bc769c-b12c-4620-ad7f-ddc16de12280",
      "metadata": {
        "id": "e9bc769c-b12c-4620-ad7f-ddc16de12280",
        "outputId": "71150f20-25bc-40e5-c593-ba994bd6c628"
      },
      "outputs": [
        {
          "data": {
            "text/plain": [
              "0.9782000000000001"
            ]
          },
          "execution_count": 22,
          "metadata": {},
          "output_type": "execute_result"
        }
      ],
      "source": [
        "a.mean()"
      ]
    },
    {
      "cell_type": "code",
      "execution_count": null,
      "id": "03d06d75-b9fb-4ef3-b927-d106c15508be",
      "metadata": {
        "scrolled": true,
        "id": "03d06d75-b9fb-4ef3-b927-d106c15508be",
        "outputId": "369f5451-550d-44cb-e53d-d8233e7b6e69"
      },
      "outputs": [
        {
          "name": "stderr",
          "output_type": "stream",
          "text": [
            "C:\\Users\\Kalpana Singh\\AppData\\Local\\Programs\\Python\\Python311\\Lib\\site-packages\\sklearn\\linear_model\\_logistic.py:458: ConvergenceWarning: lbfgs failed to converge (status=1):\n",
            "STOP: TOTAL NO. of ITERATIONS REACHED LIMIT.\n",
            "\n",
            "Increase the number of iterations (max_iter) or scale the data as shown in:\n",
            "    https://scikit-learn.org/stable/modules/preprocessing.html\n",
            "Please also refer to the documentation for alternative solver options:\n",
            "    https://scikit-learn.org/stable/modules/linear_model.html#logistic-regression\n",
            "  n_iter_i = _check_optimize_result(\n",
            "C:\\Users\\Kalpana Singh\\AppData\\Local\\Programs\\Python\\Python311\\Lib\\site-packages\\sklearn\\linear_model\\_logistic.py:458: ConvergenceWarning: lbfgs failed to converge (status=1):\n",
            "STOP: TOTAL NO. of ITERATIONS REACHED LIMIT.\n",
            "\n",
            "Increase the number of iterations (max_iter) or scale the data as shown in:\n",
            "    https://scikit-learn.org/stable/modules/preprocessing.html\n",
            "Please also refer to the documentation for alternative solver options:\n",
            "    https://scikit-learn.org/stable/modules/linear_model.html#logistic-regression\n",
            "  n_iter_i = _check_optimize_result(\n",
            "C:\\Users\\Kalpana Singh\\AppData\\Local\\Programs\\Python\\Python311\\Lib\\site-packages\\sklearn\\linear_model\\_logistic.py:458: ConvergenceWarning: lbfgs failed to converge (status=1):\n",
            "STOP: TOTAL NO. of ITERATIONS REACHED LIMIT.\n",
            "\n",
            "Increase the number of iterations (max_iter) or scale the data as shown in:\n",
            "    https://scikit-learn.org/stable/modules/preprocessing.html\n",
            "Please also refer to the documentation for alternative solver options:\n",
            "    https://scikit-learn.org/stable/modules/linear_model.html#logistic-regression\n",
            "  n_iter_i = _check_optimize_result(\n"
          ]
        }
      ],
      "source": [
        "from sklearn.model_selection import cross_val_predict\n",
        "y_train_predict = cross_val_predict(clf, x_train, y_train_2, cv=3)"
      ]
    },
    {
      "cell_type": "code",
      "execution_count": null,
      "id": "cad171f1-e120-47bb-bbfc-50a43ff0b1b7",
      "metadata": {
        "id": "cad171f1-e120-47bb-bbfc-50a43ff0b1b7",
        "outputId": "3468e531-1206-4ddd-f2a6-26a990871b50"
      },
      "outputs": [
        {
          "data": {
            "text/plain": [
              "array([False, False, False, ..., False, False, False])"
            ]
          },
          "execution_count": 24,
          "metadata": {},
          "output_type": "execute_result"
        }
      ],
      "source": [
        "y_train_predict"
      ]
    },
    {
      "cell_type": "markdown",
      "id": "679ecbf9-39b0-4a89-8b0b-b07e0f4fcb35",
      "metadata": {
        "id": "679ecbf9-39b0-4a89-8b0b-b07e0f4fcb35"
      },
      "source": [
        "## Cslculating Confusion maytrix"
      ]
    },
    {
      "cell_type": "code",
      "execution_count": null,
      "id": "0338d0c9-50e0-44c4-b57a-a99dfb0c38dd",
      "metadata": {
        "id": "0338d0c9-50e0-44c4-b57a-a99dfb0c38dd",
        "outputId": "65d85b86-a0ac-4480-b0cf-73a60d892447"
      },
      "outputs": [
        {
          "data": {
            "text/plain": [
              "array([[53547,   495],\n",
              "       [  813,  5145]], dtype=int64)"
            ]
          },
          "execution_count": 25,
          "metadata": {},
          "output_type": "execute_result"
        }
      ],
      "source": [
        "from sklearn.metrics import confusion_matrix\n",
        "confusion_matrix(y_train_2, y_train_predict)"
      ]
    },
    {
      "cell_type": "code",
      "execution_count": null,
      "id": "1a26e735-84e8-4876-ae58-a742d60da495",
      "metadata": {
        "id": "1a26e735-84e8-4876-ae58-a742d60da495",
        "outputId": "0dc3c07b-f2c8-45c2-e1c0-420c45e4dc6f"
      },
      "outputs": [
        {
          "data": {
            "text/plain": [
              "0.9122340425531915"
            ]
          },
          "execution_count": 26,
          "metadata": {},
          "output_type": "execute_result"
        }
      ],
      "source": [
        "precision_score(y_train_2, y_train_predict)"
      ]
    },
    {
      "cell_type": "markdown",
      "id": "41cd6490-67bc-4088-91bd-b47ecbf23887",
      "metadata": {
        "id": "41cd6490-67bc-4088-91bd-b47ecbf23887"
      },
      "source": [
        "## Precision, REcall, F1-Score"
      ]
    },
    {
      "cell_type": "code",
      "execution_count": null,
      "id": "f867e2b9-d227-48e8-85b7-b2f3df9fcaed",
      "metadata": {
        "id": "f867e2b9-d227-48e8-85b7-b2f3df9fcaed",
        "outputId": "e869d8e7-cab1-4383-caba-2012d03c9ec5"
      },
      "outputs": [
        {
          "data": {
            "text/plain": [
              "0.8635448136958711"
            ]
          },
          "execution_count": 27,
          "metadata": {},
          "output_type": "execute_result"
        }
      ],
      "source": [
        "from sklearn.metrics import precision_score, recall_score, f1_score\n",
        "recall_score(y_train_2, y_train_predict)"
      ]
    },
    {
      "cell_type": "code",
      "execution_count": null,
      "id": "4ac08234-f046-4b24-8cc6-b3c78a68176f",
      "metadata": {
        "id": "4ac08234-f046-4b24-8cc6-b3c78a68176f",
        "outputId": "7285ed53-4f27-4972-92e2-d643779e49f8"
      },
      "outputs": [
        {
          "data": {
            "text/plain": [
              "0.9122340425531915"
            ]
          },
          "execution_count": 28,
          "metadata": {},
          "output_type": "execute_result"
        }
      ],
      "source": [
        "precision_score(y_train_2, y_train_predict)"
      ]
    },
    {
      "cell_type": "code",
      "execution_count": null,
      "id": "9181487e-8d90-4d19-bee4-e01bc115c780",
      "metadata": {
        "id": "9181487e-8d90-4d19-bee4-e01bc115c780",
        "outputId": "da0fd939-68fb-4ab3-d5fc-2f004be3ab09"
      },
      "outputs": [
        {
          "data": {
            "text/plain": [
              "0.8872219348163477"
            ]
          },
          "execution_count": 29,
          "metadata": {},
          "output_type": "execute_result"
        }
      ],
      "source": [
        "f1_score(y_train_2, y_train_predict)"
      ]
    },
    {
      "cell_type": "code",
      "execution_count": null,
      "id": "34cdb9ab-c69c-456b-a10d-f558191adb7c",
      "metadata": {
        "id": "34cdb9ab-c69c-456b-a10d-f558191adb7c"
      },
      "outputs": [],
      "source": [
        "from sklearn.metrics import precision_recall_curve"
      ]
    },
    {
      "cell_type": "code",
      "execution_count": null,
      "id": "50de198f-57b9-4667-9ba3-719851d385d2",
      "metadata": {
        "id": "50de198f-57b9-4667-9ba3-719851d385d2",
        "outputId": "45ed0502-b6b6-4ee9-f973-9c4183575ff5"
      },
      "outputs": [
        {
          "name": "stderr",
          "output_type": "stream",
          "text": [
            "C:\\Users\\Kalpana Singh\\AppData\\Local\\Programs\\Python\\Python311\\Lib\\site-packages\\sklearn\\linear_model\\_logistic.py:458: ConvergenceWarning: lbfgs failed to converge (status=1):\n",
            "STOP: TOTAL NO. of ITERATIONS REACHED LIMIT.\n",
            "\n",
            "Increase the number of iterations (max_iter) or scale the data as shown in:\n",
            "    https://scikit-learn.org/stable/modules/preprocessing.html\n",
            "Please also refer to the documentation for alternative solver options:\n",
            "    https://scikit-learn.org/stable/modules/linear_model.html#logistic-regression\n",
            "  n_iter_i = _check_optimize_result(\n",
            "C:\\Users\\Kalpana Singh\\AppData\\Local\\Programs\\Python\\Python311\\Lib\\site-packages\\sklearn\\linear_model\\_logistic.py:458: ConvergenceWarning: lbfgs failed to converge (status=1):\n",
            "STOP: TOTAL NO. of ITERATIONS REACHED LIMIT.\n",
            "\n",
            "Increase the number of iterations (max_iter) or scale the data as shown in:\n",
            "    https://scikit-learn.org/stable/modules/preprocessing.html\n",
            "Please also refer to the documentation for alternative solver options:\n",
            "    https://scikit-learn.org/stable/modules/linear_model.html#logistic-regression\n",
            "  n_iter_i = _check_optimize_result(\n",
            "C:\\Users\\Kalpana Singh\\AppData\\Local\\Programs\\Python\\Python311\\Lib\\site-packages\\sklearn\\linear_model\\_logistic.py:458: ConvergenceWarning: lbfgs failed to converge (status=1):\n",
            "STOP: TOTAL NO. of ITERATIONS REACHED LIMIT.\n",
            "\n",
            "Increase the number of iterations (max_iter) or scale the data as shown in:\n",
            "    https://scikit-learn.org/stable/modules/preprocessing.html\n",
            "Please also refer to the documentation for alternative solver options:\n",
            "    https://scikit-learn.org/stable/modules/linear_model.html#logistic-regression\n",
            "  n_iter_i = _check_optimize_result(\n"
          ]
        }
      ],
      "source": [
        "y_score = cross_val_predict(clf, x_train, y_train_2, cv=3, method=\"decision_function\")\n",
        "precisions, recall, threshold = precision_recall_curve(y_train_2, y_score)"
      ]
    },
    {
      "cell_type": "code",
      "execution_count": null,
      "id": "4293782f-5dc9-4fe1-9b5b-47180acf5484",
      "metadata": {
        "id": "4293782f-5dc9-4fe1-9b5b-47180acf5484",
        "outputId": "4a27af52-df36-459f-e7b3-721b728d1369"
      },
      "outputs": [
        {
          "data": {
            "text/plain": [
              "array([0.0993    , 0.09930166, 0.09930331, ..., 1.        , 1.        ,\n",
              "       1.        ])"
            ]
          },
          "execution_count": 32,
          "metadata": {},
          "output_type": "execute_result"
        }
      ],
      "source": [
        "precisions"
      ]
    },
    {
      "cell_type": "code",
      "execution_count": null,
      "id": "95c961f8-232e-4681-b8b4-667bb1f90666",
      "metadata": {
        "id": "95c961f8-232e-4681-b8b4-667bb1f90666",
        "outputId": "a8ba76f6-9fd6-4f91-e1e0-d43b7738e680"
      },
      "outputs": [
        {
          "data": {
            "text/plain": [
              "array([1.00000000e+00, 1.00000000e+00, 1.00000000e+00, ...,\n",
              "       3.35683115e-04, 1.67841558e-04, 0.00000000e+00])"
            ]
          },
          "execution_count": 33,
          "metadata": {},
          "output_type": "execute_result"
        }
      ],
      "source": [
        "recall"
      ]
    },
    {
      "cell_type": "code",
      "execution_count": null,
      "id": "cf833bd8-1177-4af1-aa2a-9621163fefa9",
      "metadata": {
        "id": "cf833bd8-1177-4af1-aa2a-9621163fefa9",
        "outputId": "b72aac37-0941-44ca-cce6-afd2ec431138"
      },
      "outputs": [
        {
          "data": {
            "text/plain": [
              "array([-47.51004821, -47.08231726, -45.28963938, ...,  17.92806271,\n",
              "        19.93401979,  20.48277132])"
            ]
          },
          "execution_count": 34,
          "metadata": {},
          "output_type": "execute_result"
        }
      ],
      "source": [
        "threshold"
      ]
    },
    {
      "cell_type": "code",
      "execution_count": null,
      "id": "6483b23a-a8d0-45b6-bf02-8f3c0ee29cba",
      "metadata": {
        "id": "6483b23a-a8d0-45b6-bf02-8f3c0ee29cba",
        "outputId": "eba7682b-bb6d-4937-a9bb-9fad7130c35e"
      },
      "outputs": [
        {
          "data": {
            "text/plain": [
              "array([-15.62178083,  -9.03057945, -11.59833151, ..., -13.33389755,\n",
              "       -14.19109999,  -6.98544592])"
            ]
          },
          "execution_count": 35,
          "metadata": {},
          "output_type": "execute_result"
        }
      ],
      "source": [
        "y_score"
      ]
    },
    {
      "cell_type": "markdown",
      "id": "ff99144c-c4a6-4ea3-abd6-4dcb2faf0d66",
      "metadata": {
        "id": "ff99144c-c4a6-4ea3-abd6-4dcb2faf0d66"
      },
      "source": [
        "## precision recall curve"
      ]
    },
    {
      "cell_type": "code",
      "execution_count": null,
      "id": "f39f7668-bd06-4feb-a8f9-63e0f78ba2e2",
      "metadata": {
        "id": "f39f7668-bd06-4feb-a8f9-63e0f78ba2e2",
        "outputId": "4d770d31-928b-4c54-924b-da9f09b195ab"
      },
      "outputs": [
        {
          "data": {
            "image/png": "[encoded data removed]",
            "text/plain": [
              "<Figure size 640x480 with 1 Axes>"
            ]
          },
          "metadata": {},
          "output_type": "display_data"
        }
      ],
      "source": [
        "plt.plot(threshold, precisions[:-1],\"b--\", label=\"Precision\" )\n",
        "plt.plot(threshold, recall[:-1],\"g-\", label=\"Recall\" )\n",
        "plt.xlabel(\"Thresholds\")\n",
        "plt.legend(loc=\"upper left\")\n",
        "plt.ylim([0,1])\n",
        "plt.show()"
      ]
    },
    {
      "cell_type": "markdown",
      "id": "3390c2bb-f4f3-4f96-8a6c-e2309d5e5db8",
      "metadata": {
        "id": "3390c2bb-f4f3-4f96-8a6c-e2309d5e5db8"
      },
      "source": [
        "## SGD Classifier"
      ]
    },
    {
      "cell_type": "code",
      "execution_count": null,
      "id": "93230e2a-ed1e-4304-a656-85fe028a0d11",
      "metadata": {
        "id": "93230e2a-ed1e-4304-a656-85fe028a0d11",
        "outputId": "27e03413-356f-4115-87f9-1d244b614346"
      },
      "outputs": [
        {
          "data": {
            "text/html": [
              "<style>#sk-container-id-2 {color: black;background-color: white;}#sk-container-id-2 pre{padding: 0;}#sk-container-id-2 div.sk-toggleable {background-color: white;}#sk-container-id-2 label.sk-toggleable__label {cursor: pointer;display: block;width: 100%;margin-bottom: 0;padding: 0.3em;box-sizing: border-box;text-align: center;}#sk-container-id-2 label.sk-toggleable__label-arrow:before {content: \"▸\";float: left;margin-right: 0.25em;color: #696969;}#sk-container-id-2 label.sk-toggleable__label-arrow:hover:before {color: black;}#sk-container-id-2 div.sk-estimator:hover label.sk-toggleable__label-arrow:before {color: black;}#sk-container-id-2 div.sk-toggleable__content {max-height: 0;max-width: 0;overflow: hidden;text-align: left;background-color: #f0f8ff;}#sk-container-id-2 div.sk-toggleable__content pre {margin: 0.2em;color: black;border-radius: 0.25em;background-color: #f0f8ff;}#sk-container-id-2 input.sk-toggleable__control:checked~div.sk-toggleable__content {max-height: 200px;max-width: 100%;overflow: auto;}#sk-container-id-2 input.sk-toggleable__control:checked~label.sk-toggleable__label-arrow:before {content: \"▾\";}#sk-container-id-2 div.sk-estimator input.sk-toggleable__control:checked~label.sk-toggleable__label {background-color: #d4ebff;}#sk-container-id-2 div.sk-label input.sk-toggleable__control:checked~label.sk-toggleable__label {background-color: #d4ebff;}#sk-container-id-2 input.sk-hidden--visually {border: 0;clip: rect(1px 1px 1px 1px);clip: rect(1px, 1px, 1px, 1px);height: 1px;margin: -1px;overflow: hidden;padding: 0;position: absolute;width: 1px;}#sk-container-id-2 div.sk-estimator {font-family: monospace;background-color: #f0f8ff;border: 1px dotted black;border-radius: 0.25em;box-sizing: border-box;margin-bottom: 0.5em;}#sk-container-id-2 div.sk-estimator:hover {background-color: #d4ebff;}#sk-container-id-2 div.sk-parallel-item::after {content: \"\";width: 100%;border-bottom: 1px solid gray;flex-grow: 1;}#sk-container-id-2 div.sk-label:hover label.sk-toggleable__label {background-color: #d4ebff;}#sk-container-id-2 div.sk-serial::before {content: \"\";position: absolute;border-left: 1px solid gray;box-sizing: border-box;top: 0;bottom: 0;left: 50%;z-index: 0;}#sk-container-id-2 div.sk-serial {display: flex;flex-direction: column;align-items: center;background-color: white;padding-right: 0.2em;padding-left: 0.2em;position: relative;}#sk-container-id-2 div.sk-item {position: relative;z-index: 1;}#sk-container-id-2 div.sk-parallel {display: flex;align-items: stretch;justify-content: center;background-color: white;position: relative;}#sk-container-id-2 div.sk-item::before, #sk-container-id-2 div.sk-parallel-item::before {content: \"\";position: absolute;border-left: 1px solid gray;box-sizing: border-box;top: 0;bottom: 0;left: 50%;z-index: -1;}#sk-container-id-2 div.sk-parallel-item {display: flex;flex-direction: column;z-index: 1;position: relative;background-color: white;}#sk-container-id-2 div.sk-parallel-item:first-child::after {align-self: flex-end;width: 50%;}#sk-container-id-2 div.sk-parallel-item:last-child::after {align-self: flex-start;width: 50%;}#sk-container-id-2 div.sk-parallel-item:only-child::after {width: 0;}#sk-container-id-2 div.sk-dashed-wrapped {border: 1px dashed gray;margin: 0 0.4em 0.5em 0.4em;box-sizing: border-box;padding-bottom: 0.4em;background-color: white;}#sk-container-id-2 div.sk-label label {font-family: monospace;font-weight: bold;display: inline-block;line-height: 1.2em;}#sk-container-id-2 div.sk-label-container {text-align: center;}#sk-container-id-2 div.sk-container {/* jupyter's `normalize.less` sets `[hidden] { display: none; }` but bootstrap.min.css set `[hidden] { display: none !important; }` so we also need the `!important` here to be able to override the default hidden behavior on the sphinx rendered scikit-learn.org. See: https://github.com/scikit-learn/scikit-learn/issues/21755 */display: inline-block !important;position: relative;}#sk-container-id-2 div.sk-text-repr-fallback {display: none;}</style><div id=\"sk-container-id-2\" class=\"sk-top-container\"><div class=\"sk-text-repr-fallback\"><pre>SGDClassifier(tol=0.1)</pre><b>In a Jupyter environment, please rerun this cell to show the HTML representation or trust the notebook. <br />On GitHub, the HTML representation is unable to render, please try loading this page with nbviewer.org.</b></div><div class=\"sk-container\" hidden><div class=\"sk-item\"><div class=\"sk-estimator sk-toggleable\"><input class=\"sk-toggleable__control sk-hidden--visually\" id=\"sk-estimator-id-2\" type=\"checkbox\" checked><label for=\"sk-estimator-id-2\" class=\"sk-toggleable__label sk-toggleable__label-arrow\">SGDClassifier</label><div class=\"sk-toggleable__content\"><pre>SGDClassifier(tol=0.1)</pre></div></div></div></div></div>"
            ],
            "text/plain": [
              "SGDClassifier(tol=0.1)"
            ]
          },
          "execution_count": 37,
          "metadata": {},
          "output_type": "execute_result"
        }
      ],
      "source": [
        "\n",
        "from sklearn.linear_model import SGDClassifier\n",
        "clf_sgd = SGDClassifier(tol=0.1)\n",
        "clf_sgd.fit(x_train,y_train_2)"
      ]
    },
    {
      "cell_type": "code",
      "execution_count": null,
      "id": "7f4fd9d4-e1be-440b-94dc-352dffc33caf",
      "metadata": {
        "id": "7f4fd9d4-e1be-440b-94dc-352dffc33caf",
        "outputId": "84ec4b19-d4ff-4214-8a70-769f64079eee"
      },
      "outputs": [
        {
          "name": "stdout",
          "output_type": "stream",
          "text": [
            "[ True]\n"
          ]
        },
        {
          "name": "stderr",
          "output_type": "stream",
          "text": [
            "C:\\Users\\Kalpana Singh\\AppData\\Local\\Programs\\Python\\Python311\\Lib\\site-packages\\sklearn\\base.py:439: UserWarning: X does not have valid feature names, but SGDClassifier was fitted with feature names\n",
            "  warnings.warn(\n"
          ]
        }
      ],
      "source": [
        "example = clf_sgd.predict([some_digit])\n",
        "print(example)"
      ]
    },
    {
      "cell_type": "code",
      "execution_count": null,
      "id": "94fc0cf1-c862-4ce6-9ca4-0e720b3c6da2",
      "metadata": {
        "id": "94fc0cf1-c862-4ce6-9ca4-0e720b3c6da2"
      },
      "outputs": [],
      "source": [
        "a = cross_val_score(clf_sgd, x_train, y_train_2, cv=3, scoring=\"accuracy\")\n"
      ]
    },
    {
      "cell_type": "code",
      "execution_count": null,
      "id": "a4206e56-8164-4a71-a69b-3bb2159301de",
      "metadata": {
        "id": "a4206e56-8164-4a71-a69b-3bb2159301de",
        "outputId": "b64aa73d-3d73-4558-a90f-d96e1966dc1c"
      },
      "outputs": [
        {
          "name": "stdout",
          "output_type": "stream",
          "text": [
            "0.9722833333333334\n"
          ]
        }
      ],
      "source": [
        "print(a.mean())"
      ]
    },
    {
      "cell_type": "code",
      "execution_count": null,
      "id": "bb0d0767-3f52-445f-8508-86e59fd665e5",
      "metadata": {
        "id": "bb0d0767-3f52-445f-8508-86e59fd665e5"
      },
      "outputs": [],
      "source": [
        "y_predict_sgd = cross_val_predict(clf_sgd, x_train, y_train_2, cv=3)\n"
      ]
    },
    {
      "cell_type": "code",
      "execution_count": null,
      "id": "64d93271-2d10-4d73-ba4d-f40a89ee9d82",
      "metadata": {
        "id": "64d93271-2d10-4d73-ba4d-f40a89ee9d82",
        "outputId": "c3affd4a-97d3-42e4-cfd0-60a0298cf819"
      },
      "outputs": [
        {
          "data": {
            "text/plain": [
              "array([False, False, False, ..., False, False, False])"
            ]
          },
          "execution_count": 42,
          "metadata": {},
          "output_type": "execute_result"
        }
      ],
      "source": [
        "y_predict_sgd"
      ]
    },
    {
      "cell_type": "code",
      "execution_count": null,
      "id": "06f00ad3-257f-462a-9134-7e53604ea84c",
      "metadata": {
        "id": "06f00ad3-257f-462a-9134-7e53604ea84c",
        "outputId": "bf89b391-a436-4b81-9412-1677f1a53269"
      },
      "outputs": [
        {
          "name": "stdout",
          "output_type": "stream",
          "text": [
            "[[53383   659]\n",
            " [ 1182  4776]]\n",
            "precision_score:  0.8787488500459981\n",
            "recall_score:  0.8016112789526687\n",
            "f1_score:  0.8384095497235144\n"
          ]
        }
      ],
      "source": [
        "print(confusion_matrix(y_train_2, y_predict_sgd))\n",
        "print(\"precision_score: \",precision_score(y_train_2, y_predict_sgd))\n",
        "print(\"recall_score: \", recall_score(y_train_2, y_predict_sgd))\n",
        "print(\"f1_score: \",f1_score(y_train_2, y_predict_sgd))"
      ]
    },
    {
      "cell_type": "code",
      "execution_count": null,
      "id": "15d558b7-8633-4dca-9c53-c859fd9261ea",
      "metadata": {
        "id": "15d558b7-8633-4dca-9c53-c859fd9261ea"
      },
      "outputs": [],
      "source": [
        "y_score_sgd = cross_val_predict(clf_sgd, x_train, y_train_2, cv=3, method=\"decision_function\")\n",
        "precision_sgd, recall_sgd, threshold_sgd = precision_recall_curve(y_train_2, y_score_sgd)"
      ]
    },
    {
      "cell_type": "code",
      "execution_count": null,
      "id": "d00d6d6a-ab1b-4fe6-8f3d-f07f6ed5e9ee",
      "metadata": {
        "id": "d00d6d6a-ab1b-4fe6-8f3d-f07f6ed5e9ee",
        "outputId": "4e9eb8f2-2b07-407c-c0bb-8ca3ba37f382"
      },
      "outputs": [
        {
          "data": {
            "image/png": "[encoded data removed]",
            "text/plain": [
              "<Figure size 640x480 with 1 Axes>"
            ]
          },
          "metadata": {},
          "output_type": "display_data"
        }
      ],
      "source": [
        "plt.plot(threshold_sgd, precision_sgd[:-1],\"b--\", label=\"Precision\" )\n",
        "plt.plot(threshold_sgd, recall_sgd[:-1],\"g-\", label=\"Recall\" )\n",
        "plt.xlabel(\"Thresholds\")\n",
        "plt.legend(loc=\"upper left\")\n",
        "plt.ylim([0,1])\n",
        "plt.show()"
      ]
    },
    {
      "cell_type": "markdown",
      "id": "f2482d36-6a60-4589-b801-588cc5512145",
      "metadata": {
        "id": "f2482d36-6a60-4589-b801-588cc5512145"
      },
      "source": [
        "Conclusion: When we used Logistic Regression we get 97.37 accuracy, precision, Recall is also high and 95.83 accuracy with SGDClassifier."
      ]
    }
  ],
  "metadata": {
    "kernelspec": {
      "display_name": "Python 3 (ipykernel)",
      "language": "python",
      "name": "python3"
    },
    "language_info": {
      "codemirror_mode": {
        "name": "ipython",
        "version": 3
      },
      "file_extension": ".py",
      "mimetype": "text/x-python",
      "name": "python",
      "nbconvert_exporter": "python",
      "pygments_lexer": "ipython3",
      "version": "3.11.3"
    },
    "colab": {
      "provenance": [],
      "include_colab_link": true
    }
  },
  "nbformat": 4,
  "nbformat_minor": 5
}